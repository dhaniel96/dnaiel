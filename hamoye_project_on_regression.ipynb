{
  "nbformat": 4,
  "nbformat_minor": 0,
  "metadata": {
    "colab": {
      "name": "hamoye project on regression",
      "provenance": [],
      "collapsed_sections": [],
      "authorship_tag": "ABX9TyNYYUkfvelnEsEQrJS8spx+",
      "include_colab_link": true
    },
    "kernelspec": {
      "name": "python3",
      "display_name": "Python 3"
    }
  },
  "cells": [
    {
      "cell_type": "markdown",
      "metadata": {
        "id": "view-in-github",
        "colab_type": "text"
      },
      "source": [
        "<a href=\"https://colab.research.google.com/github/dhaniel96/dnaiel/blob/master/hamoye_project_on_regression.ipynb\" target=\"_parent\"><img src=\"https://colab.research.google.com/assets/colab-badge.svg\" alt=\"Open In Colab\"/></a>"
      ]
    },
    {
      "cell_type": "markdown",
      "metadata": {
        "id": "Uwpeg2t_j_tB",
        "colab_type": "text"
      },
      "source": [
        "## **Machine** **Learning**: Regression - Predicting Energy Efficiency of Buildings"
      ]
    },
    {
      "cell_type": "code",
      "metadata": {
        "id": "fXtJjpLJB0Y9",
        "colab_type": "code",
        "colab": {}
      },
      "source": [
        "import pandas as pd\n",
        "import numpy as np\n",
        "import seaborn as sns\n",
        "%matplotlib inline\n",
        "from geopy.distance import geodesic\n",
        "from geopy.distance import lonlat, distance\n",
        "df = pd.read_csv('energydata_complete.csv', delimiter = ',')"
      ],
      "execution_count": 45,
      "outputs": []
    },
    {
      "cell_type": "code",
      "metadata": {
        "id": "2UZ7JOPsbIMZ",
        "colab_type": "code",
        "colab": {}
      },
      "source": [
        "#loading the set\n",
        "df"
      ],
      "execution_count": null,
      "outputs": []
    },
    {
      "cell_type": "code",
      "metadata": {
        "id": "6OmF5HKHbLU4",
        "colab_type": "code",
        "colab": {}
      },
      "source": [
        "print(f'the number of rows in the dataset is {df.shape[0]}\\nthe number of columns in the dataset is {df.shape[1]}')"
      ],
      "execution_count": null,
      "outputs": []
    },
    {
      "cell_type": "code",
      "metadata": {
        "id": "2WP0kTj3byig",
        "colab_type": "code",
        "colab": {}
      },
      "source": [
        "#checking if there  are missing values in the dataset\n",
        "df.isnull().sum()"
      ],
      "execution_count": null,
      "outputs": []
    },
    {
      "cell_type": "code",
      "metadata": {
        "id": "0OBSigxgcOPM",
        "colab_type": "code",
        "colab": {}
      },
      "source": [
        "#descriptive summary of the data\n",
        "df.describe()"
      ],
      "execution_count": null,
      "outputs": []
    },
    {
      "cell_type": "code",
      "metadata": {
        "id": "53FRJz-5D4tP",
        "colab_type": "code",
        "colab": {}
      },
      "source": [
        "#dropping the date and light columns\n",
        "df = df.drop(['date','lights'],axis=1)\n",
        "df.head()"
      ],
      "execution_count": null,
      "outputs": []
    },
    {
      "cell_type": "code",
      "metadata": {
        "id": "g_OCrLiUF4Ew",
        "colab_type": "code",
        "colab": {}
      },
      "source": [
        "#normalising our dataset to a common scale using the min max scaler\n",
        "from sklearn.preprocessing import MinMaxScaler\n",
        "scaler = MinMaxScaler()\n"
      ],
      "execution_count": 59,
      "outputs": []
    },
    {
      "cell_type": "code",
      "metadata": {
        "id": "PjUiOLFeG2If",
        "colab_type": "code",
        "colab": {}
      },
      "source": [
        "normalised_df = pd.DataFrame(scaler.fit_transform(df), columns=df.columns)\n",
        "features_df = normalised_df.drop(columns=['Appliances'], axis=1)\n",
        "heating_target = normalised_df['Appliances']"
      ],
      "execution_count": 61,
      "outputs": []
    },
    {
      "cell_type": "code",
      "metadata": {
        "id": "JdHwmtltLjeA",
        "colab_type": "code",
        "colab": {}
      },
      "source": [
        "#splitting our dataset into the training and testing dataset. \n",
        "from sklearn.model_selection import train_test_split\n",
        "x_train, x_test, y_train, y_test = train_test_split(features_df, heating_target, test_size=0.3, random_state=42)"
      ],
      "execution_count": 57,
      "outputs": []
    },
    {
      "cell_type": "code",
      "metadata": {
        "id": "v9lNWPvFOpb9",
        "colab_type": "code",
        "colab": {}
      },
      "source": [
        "from sklearn.linear_model import LinearRegression\n",
        "linear_model = LinearRegression()\n",
        "linear_model.fit(x_train, y_train)\n",
        "predicted_values = linear_model.predict(x_test)"
      ],
      "execution_count": null,
      "outputs": []
    },
    {
      "cell_type": "code",
      "metadata": {
        "id": "8uYXRoz2PPpl",
        "colab_type": "code",
        "colab": {}
      },
      "source": [
        "#MAE(Mean Absolute Error)\n",
        "from sklearn.metrics import mean_absolute_error\n",
        "mae = mean_absolute_error(y_test, predicted_values)\n",
        "round(mae, 2)"
      ],
      "execution_count": null,
      "outputs": []
    },
    {
      "cell_type": "code",
      "metadata": {
        "id": "vwtDyZ6GRUZz",
        "colab_type": "code",
        "colab": {}
      },
      "source": [
        "#Residual Sum of Squares (RSS)\n",
        "rss = np.sum(np.square(y_test - predicted_values))\n",
        "round(rss, 2)"
      ],
      "execution_count": null,
      "outputs": []
    },
    {
      "cell_type": "code",
      "metadata": {
        "id": "ZrnvipIURyPx",
        "colab_type": "code",
        "colab": {}
      },
      "source": [
        "#Root Mean Square Error (RMSE)\n",
        "from sklearn.metrics import  mean_squared_error\n",
        "rmse = np.sqrt(mean_squared_error(y_test, predicted_values))\n",
        "round(rmse, 3)"
      ],
      "execution_count": null,
      "outputs": []
    },
    {
      "cell_type": "code",
      "metadata": {
        "id": "KJgX3kEnSPcO",
        "colab_type": "code",
        "colab": {}
      },
      "source": [
        "#R-Squared\n",
        "from sklearn.metrics import r2_score\n",
        "r2_score = r2_score(y_test, predicted_values)\n",
        "round(r2_score, 2)"
      ],
      "execution_count": null,
      "outputs": []
    },
    {
      "cell_type": "code",
      "metadata": {
        "id": "ImKPdmU1WiWa",
        "colab_type": "code",
        "colab": {}
      },
      "source": [
        "from sklearn.linear_model import Lasso\n",
        "lasso_reg = Lasso(alpha=0.001)\n",
        "lasso_reg.fit(x_train, y_train)"
      ],
      "execution_count": null,
      "outputs": []
    },
    {
      "cell_type": "code",
      "metadata": {
        "id": "OilulAYrWiBt",
        "colab_type": "code",
        "colab": {}
      },
      "source": [
        "from sklearn.linear_model import Ridge\n",
        "ridge_reg = Ridge(alpha=0.5)\n",
        "ridge_reg.fit(x_train, y_train)"
      ],
      "execution_count": null,
      "outputs": []
    },
    {
      "cell_type": "code",
      "metadata": {
        "id": "anz3uBqmSffZ",
        "colab_type": "code",
        "colab": {}
      },
      "source": [
        "#comparing the effects of regularisation\n",
        "def get_weights_df(model, feat, col_name):\n",
        "  #this function returns the weight of every feature\n",
        "  weights = pd.Series(model.coef_, feat.columns).sort_values()\n",
        "  weights_df = pd.DataFrame(weights).reset_index()\n",
        "  weights_df.columns = ['Features', col_name]\n",
        "  weights_df[col_name].round(3)\n",
        "  return weights_df"
      ],
      "execution_count": null,
      "outputs": []
    },
    {
      "cell_type": "code",
      "metadata": {
        "id": "G44h5yOXTpHS",
        "colab_type": "code",
        "colab": {}
      },
      "source": [
        "linear_model = get_weights_df(linear_model, x_train, 'Linear_Model')\n",
        "ridge_weights_df = get_weights_df(ridge_reg, x_train, 'Ridge_Weight')\n",
        "lasso_weights_df = get_weights_df(lasso_reg, x_train, 'Lasso_weight')"
      ],
      "execution_count": null,
      "outputs": []
    },
    {
      "cell_type": "code",
      "metadata": {
        "id": "jvXZvw02cnqL",
        "colab_type": "code",
        "colab": {}
      },
      "source": [
        "final_weights = pd.merge(linear_model, ridge_weights_df, on='Features')\n",
        "final_weights = pd.merge(final_weights, lasso_weights_df, on='Features')\n",
        "final_weights"
      ],
      "execution_count": null,
      "outputs": []
    }
  ]
}